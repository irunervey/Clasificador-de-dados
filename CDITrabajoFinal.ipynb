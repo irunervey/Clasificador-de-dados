{
  "nbformat": 4,
  "nbformat_minor": 0,
  "metadata": {
    "colab": {
      "provenance": []
    },
    "kernelspec": {
      "name": "python3",
      "display_name": "Python 3"
    },
    "language_info": {
      "name": "python"
    },
    "accelerator": "GPU",
    "gpuClass": "standard"
  },
  "cells": [
    {
      "cell_type": "markdown",
      "source": [
        "# Recomendador de revistas científicas para enviar una publicación\n",
        "### Por Iru Nervey Navarro Alejo\n",
        "\n",
        "El objetivo de esta tarea es automatizar la selección de revista a la que enviar un artículo para su publicación.\n",
        "\n",
        "Para esta tarea se ha desarrollado un recomendador el cual ha sido entrenado con artículos de cuatro revistas, de forma que puede identificar que revista es la más adecuada de estas cuatro para nuestro artículo."
      ],
      "metadata": {
        "id": "TqhovuSgccfu"
      }
    },
    {
      "cell_type": "markdown",
      "source": [
        "## Datos utilizados\n",
        "Se han seleccionados los artículos de los años 2018, 2019, 2020 y 2021 de las revistas Data & Knowledge Engineering, Expert Systems with Applications,Journal of Visual Communication and Image Representation, Pattern Recognition "
      ],
      "metadata": {
        "id": "LjX01xIaySH7"
      }
    },
    {
      "cell_type": "markdown",
      "source": [
        "## Desarrollo del recomendador\n",
        "### Preparación del entorno\n",
        "Para el desarrollo del recomendador comenzamos preparando el entorno. Nos conectamos al drive y extraemos los datos necesarios de los artículos."
      ],
      "metadata": {
        "id": "0P_1gXDG4HY0"
      }
    },
    {
      "cell_type": "code",
      "execution_count": null,
      "metadata": {
        "colab": {
          "base_uri": "https://localhost:8080/"
        },
        "id": "Kwb9KDq0iyEf",
        "outputId": "58f045f9-2044-4ff6-f55b-bd8e4c8218a8"
      },
      "outputs": [
        {
          "output_type": "stream",
          "name": "stdout",
          "text": [
            "Mounted at /content/drive\n"
          ]
        }
      ],
      "source": [
        "from google.colab import drive\n",
        "drive.mount('/content/drive')"
      ]
    },
    {
      "cell_type": "markdown",
      "source": [
        "Carpeta donde se encuentran las revistas"
      ],
      "metadata": {
        "id": "FqRPk3244b1W"
      }
    },
    {
      "cell_type": "code",
      "source": [
        "carpeta='/content/drive/MyDrive/CDI/trabajo/'\n",
        "rev2=carpeta+'Revista2/'\n",
        "rev3=carpeta+'Revista3/'\n",
        "rev4=carpeta+'Revista4/'\n",
        "rev6=carpeta+'Revista6/'"
      ],
      "metadata": {
        "id": "B8usHNQ_4aMb"
      },
      "execution_count": null,
      "outputs": []
    },
    {
      "cell_type": "code",
      "source": [
        "pip install bibtexparser\n"
      ],
      "metadata": {
        "colab": {
          "base_uri": "https://localhost:8080/"
        },
        "id": "1VKPVkY9_OOU",
        "outputId": "9ae0e02f-b0a1-419d-cd94-6b6c7e8cd42c"
      },
      "execution_count": null,
      "outputs": [
        {
          "output_type": "stream",
          "name": "stdout",
          "text": [
            "Looking in indexes: https://pypi.org/simple, https://us-python.pkg.dev/colab-wheels/public/simple/\n",
            "Requirement already satisfied: bibtexparser in /usr/local/lib/python3.8/dist-packages (1.4.0)\n",
            "Requirement already satisfied: pyparsing>=2.0.3 in /usr/local/lib/python3.8/dist-packages (from bibtexparser) (3.0.9)\n"
          ]
        }
      ]
    },
    {
      "cell_type": "code",
      "source": [
        "import pandas as pd\n",
        "import bibtexparser\n",
        "import os\n",
        "import string\n",
        "import nltk\n",
        "\n",
        "\n",
        "def leerCarpeta(carpeta,df,revista):\n",
        "  archivos = os.listdir(carpeta)\n",
        "  for archivo in archivos:\n",
        "    with open(os.path.join(carpeta,archivo), 'r') as bibtex_file:\n",
        "      bibtex_str = bibtex_file.read()\n",
        "    bib_database = bibtexparser.loads(bibtex_str)\n",
        "    entries = [{'abstract': entry['abstract'], 'title': entry['title'], 'magazine': revista} for entry in bib_database.entries if 'abstract' in entry]\n",
        "    df=df.append(entries,ignore_index=True)\n",
        "  return df\n"
      ],
      "metadata": {
        "id": "NWL5iV30L-Vi"
      },
      "execution_count": null,
      "outputs": []
    },
    {
      "cell_type": "code",
      "source": [
        "dfCompleto=pd.DataFrame()\n",
        "dfCompleto=dfCompleto.assign(abstract=None,title=None,magazine=None)\n",
        "dfCompleto=leerCarpeta(rev2,dfCompleto,0)\n",
        "dfCompleto=leerCarpeta(rev3,dfCompleto,1)\n",
        "dfCompleto=leerCarpeta(rev4,dfCompleto,2)\n",
        "dfCompleto=leerCarpeta(rev6,dfCompleto,3)\n",
        "for i in range(0,4):\n",
        "  print('El número de artículos en la revista {} son {:4d} siendo un {:2.2f}% del total de artículos'.format(i,len(dfCompleto['abstract'][dfCompleto['magazine']==i]),len(dfCompleto['abstract'][dfCompleto['magazine']==i])/len(dfCompleto)*100))\n"
      ],
      "metadata": {
        "colab": {
          "base_uri": "https://localhost:8080/"
        },
        "id": "mduxSd4Mb1Pm",
        "outputId": "f37c2c8d-b43a-40f1-9647-87c7d31974f7"
      },
      "execution_count": null,
      "outputs": [
        {
          "output_type": "stream",
          "name": "stdout",
          "text": [
            "El número de artículos en la revista 0 son  185 siendo un 3.47% del total de artículos\n",
            "El número de artículos en la revista 1 son 3543 siendo un 66.49% del total de artículos\n",
            "El número de artículos en la revista 2 son  940 siendo un 17.64% del total de artículos\n",
            "El número de artículos en la revista 3 son  661 siendo un 12.40% del total de artículos\n"
          ]
        }
      ]
    },
    {
      "cell_type": "markdown",
      "source": [
        "El primer problema con el que nos enfrentamos es que los artículos se encuentran desbalanceados. Podemos intuir que el recomendador tendra problemas para clasificar los artículos de la revista 0 (revista 2) por la cantidad tan reducida de articulos que contiene.\n",
        "\n",
        "A continuación se eliminaran las stopwords ya que no presentan información relevante del artículo y pondra todas letras en minusculas."
      ],
      "metadata": {
        "id": "aceUWdzrfcEu"
      }
    },
    {
      "cell_type": "code",
      "source": [
        "\n",
        "dfMod=dfCompleto.copy()\n",
        "dfMod['abstract'] = dfMod['abstract'].str.lower()\n",
        "dfMod['abstract'] = dfMod['abstract'].apply(lambda x: x.translate(str.maketrans('','',string.punctuation)))\n",
        "\n",
        "nltk.download('stopwords')\n",
        "nltk.download('punkt')\n",
        "stopwords = nltk.corpus.stopwords.words('english')\n",
        "dfMod['abstract'] = dfMod['abstract'].apply(lambda x: (' ').join([word for word in nltk.word_tokenize(x) if word not in (stopwords)]))\n"
      ],
      "metadata": {
        "colab": {
          "base_uri": "https://localhost:8080/"
        },
        "id": "zyKlNICUdFjH",
        "outputId": "865d6cee-d222-42a0-b8d7-acd8c38ccbd0"
      },
      "execution_count": null,
      "outputs": [
        {
          "output_type": "stream",
          "name": "stderr",
          "text": [
            "[nltk_data] Downloading package stopwords to /root/nltk_data...\n",
            "[nltk_data]   Unzipping corpora/stopwords.zip.\n",
            "[nltk_data] Downloading package punkt to /root/nltk_data...\n",
            "[nltk_data]   Unzipping tokenizers/punkt.zip.\n"
          ]
        }
      ]
    },
    {
      "cell_type": "markdown",
      "source": [
        "### Desarrollo del modelo\n",
        "Una vez hemos preparado los artículos procedemos a desarrollar el modelo."
      ],
      "metadata": {
        "id": "mRMsucneszi8"
      }
    },
    {
      "cell_type": "code",
      "source": [
        "import tensorflow as tf\n",
        "import numpy as np\n",
        "\n",
        "from sklearn.model_selection import train_test_split\n",
        "from sklearn.preprocessing import OneHotEncoder\n",
        "from sklearn.metrics import confusion_matrix, ConfusionMatrixDisplay, accuracy_score\n",
        "\n",
        "from tensorflow.keras.preprocessing.text import Tokenizer\n",
        "from tensorflow.keras.preprocessing import sequence\n",
        "\n",
        "from tensorflow.keras.models import Model\n",
        "from tensorflow.keras.layers import Input, Embedding, LSTM, Dense, Dropout, Activation\n",
        "from tensorflow.keras.optimizers import RMSprop, Adam\n",
        "from tensorflow.keras.callbacks import EarlyStopping\n",
        "\n",
        "from sklearn.feature_extraction.text import CountVectorizer, TfidfVectorizer\n",
        "from sklearn.ensemble import RandomForestClassifier\n",
        "from typing_extensions import ParamSpecArgs"
      ],
      "metadata": {
        "id": "vT2FMfQPbitU"
      },
      "execution_count": null,
      "outputs": []
    },
    {
      "cell_type": "markdown",
      "source": [
        "Dividimos los 'abstract' por palabras y separamos los artículos en dos conjuntos, el conjunto de test y el conjunto de entrenamiento."
      ],
      "metadata": {
        "id": "urvVNjrBiWNE"
      }
    },
    {
      "cell_type": "code",
      "source": [
        "bowTF = CountVectorizer()\n",
        "doc_term_TF = bowTF.fit_transform(dfMod['abstract'])\n",
        "\n",
        "bowTFIDF = TfidfVectorizer()\n",
        "doc_term_TFIDF = bowTFIDF.fit_transform(dfMod['abstract'])\n",
        "\n",
        "df_train, df_test = train_test_split(dfMod, test_size=0.3, shuffle=True,random_state=27)\n",
        "\n",
        "x_train = df_train['abstract']\n",
        "x_test = df_test['abstract']\n",
        "\n",
        "y_train = df_train['magazine'].values\n",
        "y_test = df_test['magazine'].values\n",
        "\n",
        "encode = OneHotEncoder()\n",
        "\n",
        "y_train = encode.fit_transform(y_train.reshape(-1,1))\n",
        "y_test = encode.fit_transform(y_test.reshape(-1,1))\n",
        "\n",
        "y_train = y_train.toarray()\n",
        "y_test = y_test.toarray()\n",
        "\n",
        "num_palabras=1000\n",
        "long_secuencia=200\n",
        "tokenizer = Tokenizer(num_words=num_palabras)\n",
        "tokenizer.fit_on_texts(x_train)"
      ],
      "metadata": {
        "id": "CigepxzvgUd8"
      },
      "execution_count": null,
      "outputs": []
    },
    {
      "cell_type": "markdown",
      "source": [
        "Ahora procedemos a entrenar el modelo"
      ],
      "metadata": {
        "id": "C4WVBeWq76DW"
      }
    },
    {
      "cell_type": "code",
      "source": [
        "secuencia = tokenizer.texts_to_sequences(x_train)\n",
        "secuencia_train = sequence.pad_sequences(secuencia, maxlen=long_secuencia)\n",
        "\n",
        "secuencia = tokenizer.texts_to_sequences(x_test)\n",
        "secuencia_test = sequence.pad_sequences(secuencia, maxlen=long_secuencia)"
      ],
      "metadata": {
        "id": "INYyE40DAFfd"
      },
      "execution_count": null,
      "outputs": []
    },
    {
      "cell_type": "markdown",
      "source": [
        "Se han desarrollado tres modelos RNN para comparar resultados posteriormente. Estas redes neuronales recurrentes contienen una capa de neuronas LSTM que nos permiten recordar información de los pasos anteriores, resultando especiamente utililes a la hora de trabajar con el lenguaje natural."
      ],
      "metadata": {
        "id": "EgDA35DjjtAM"
      }
    },
    {
      "cell_type": "code",
      "source": [
        "def RNN(tam_entrada, num_palabras, num_classes):\n",
        "  input = Input(name='inputs', shape=[tam_entrada])\n",
        "  layer = Embedding(num_palabras,20,input_length=tam_entrada)(input)\n",
        "  layer = LSTM(50)(layer)\n",
        "  layer = Dense(256, name ='FC1')(layer)\n",
        "  layer = Activation('relu')(layer)\n",
        "  layer = Dropout(0.5)(layer)\n",
        "  layer = Dense(num_classes,name='output_layer')(layer)\n",
        "  output = Activation('softmax')(layer)\n",
        "  model = Model(inputs=input,outputs=output)\n",
        "  return model\n",
        "\n",
        "def RNN1(tam_entrada, num_palabras, num_classes):\n",
        "  input = Input(name='inputs', shape=[tam_entrada])\n",
        "  layer = Embedding(num_palabras,20,input_length=tam_entrada)(input)\n",
        "  layer = LSTM(100)(layer)\n",
        "  layer = Dense(256, name ='FC1')(layer)\n",
        "  layer = Activation('relu')(layer)\n",
        "  layer = Dropout(0.5)(layer)\n",
        "  layer = Dense(num_classes,name='output_layer')(layer)\n",
        "  output = Activation('softmax')(layer)\n",
        "  model = Model(inputs=input,outputs=output)\n",
        "  return model\n",
        "\n",
        "def RNN2(tam_entrada, num_palabras, num_classes):\n",
        "  input = Input(name='inputs', shape=[tam_entrada])\n",
        "  layer = Embedding(num_palabras,20,input_length=tam_entrada)(input)\n",
        "  layer = LSTM(100)(layer)\n",
        "  layer = Dense(512, name ='FC1')(layer)\n",
        "  layer = Activation('relu')(layer)\n",
        "  layer = Dropout(0.5)(layer)\n",
        "  layer = Dense(num_classes,name='output_layer')(layer)\n",
        "  output = Activation('softmax')(layer)\n",
        "  model = Model(inputs=input,outputs=output)\n",
        "  return model\n",
        "\n",
        "def entrenar(modelo):\n",
        "  modelo.compile(loss='categorical_crossentropy',optimizer=Adam(learning_rate=0.001),metrics=['accuracy'])\n",
        "  modelo.fit(secuencia_train, y_train,batch_size=64, epochs=num_epocas, validation_split=0.3, callbacks=callback)\n",
        "  return modelo.evaluate(secuencia_test, y_test)[1]"
      ],
      "metadata": {
        "id": "_q49zmPrAGns"
      },
      "execution_count": null,
      "outputs": []
    },
    {
      "cell_type": "markdown",
      "source": [
        "Entrenamos los tres modelos vemos los resultados obtenidos"
      ],
      "metadata": {
        "id": "9Js4F_Bfk7Db"
      }
    },
    {
      "cell_type": "code",
      "source": [
        "modelo = RNN(long_secuencia, num_palabras, 4)\n",
        "modelo.compile(loss='categorical_crossentropy',optimizer=Adam(learning_rate=0.001),metrics=['accuracy'])\n",
        "\n",
        "modelo1 = RNN1(long_secuencia, num_palabras, 4)\n",
        "modelo1.compile(loss='categorical_crossentropy',optimizer=Adam(learning_rate=0.001),metrics=['accuracy'])\n",
        "\n",
        "modelo2 = RNN2(long_secuencia, num_palabras, 4)\n",
        "modelo2.compile(loss='categorical_crossentropy',optimizer=Adam(learning_rate=0.001),metrics=['accuracy'])\n",
        "\n",
        "\n",
        "callback = EarlyStopping(monitor='val_loss',patience=5)\n",
        "num_epocas = 20\n",
        "modelo.fit(secuencia_train, y_train,batch_size=64, epochs=num_epocas, validation_split=0.3, callbacks=callback)\n",
        "modelo1.fit(secuencia_train, y_train,batch_size=64, epochs=num_epocas, validation_split=0.3, callbacks=callback)\n",
        "modelo2.fit(secuencia_train, y_train,batch_size=64, epochs=num_epocas, validation_split=0.3, callbacks=callback)\n",
        "\n"
      ],
      "metadata": {
        "colab": {
          "base_uri": "https://localhost:8080/",
          "height": 762
        },
        "id": "pfjdzXRmAfSF",
        "outputId": "4a9866d0-6525-45a3-ab38-533967b5435c"
      },
      "execution_count": null,
      "outputs": [
        {
          "output_type": "stream",
          "name": "stdout",
          "text": [
            "Epoch 1/20\n",
            "41/41 [==============================] - 11s 188ms/step - loss: 1.1261 - accuracy: 0.6503 - val_loss: 0.9179 - val_accuracy: 0.6738\n",
            "Epoch 2/20\n",
            "41/41 [==============================] - 6s 153ms/step - loss: 0.8813 - accuracy: 0.6645 - val_loss: 0.7728 - val_accuracy: 0.6792\n",
            "Epoch 3/20\n",
            "41/41 [==============================] - 6s 150ms/step - loss: 0.6659 - accuracy: 0.7331 - val_loss: 0.6519 - val_accuracy: 0.7364\n",
            "Epoch 4/20\n",
            "41/41 [==============================] - 6s 150ms/step - loss: 0.5388 - accuracy: 0.7836 - val_loss: 0.6461 - val_accuracy: 0.7614\n",
            "Epoch 5/20\n",
            "41/41 [==============================] - 7s 175ms/step - loss: 0.4727 - accuracy: 0.8231 - val_loss: 0.6739 - val_accuracy: 0.7694\n",
            "Epoch 6/20\n",
            "41/41 [==============================] - 10s 247ms/step - loss: 0.4208 - accuracy: 0.8514 - val_loss: 0.6614 - val_accuracy: 0.7676\n",
            "Epoch 7/20\n",
            "41/41 [==============================] - 8s 193ms/step - loss: 0.3826 - accuracy: 0.8690 - val_loss: 0.7411 - val_accuracy: 0.7775\n",
            "Epoch 8/20\n",
            "41/41 [==============================] - 6s 151ms/step - loss: 0.3181 - accuracy: 0.8977 - val_loss: 0.6905 - val_accuracy: 0.7971\n",
            "Epoch 9/20\n",
            "41/41 [==============================] - 11s 269ms/step - loss: 0.2540 - accuracy: 0.9192 - val_loss: 0.7654 - val_accuracy: 0.7962\n",
            "Epoch 1/20\n",
            "41/41 [==============================] - 22s 491ms/step - loss: 1.0414 - accuracy: 0.6565 - val_loss: 0.9036 - val_accuracy: 0.6738\n",
            "Epoch 2/20\n",
            "41/41 [==============================] - ETA: 0s - loss: 0.7989 - accuracy: 0.6940"
          ]
        },
        {
          "output_type": "error",
          "ename": "KeyboardInterrupt",
          "evalue": "ignored",
          "traceback": [
            "\u001b[0;31m---------------------------------------------------------------------------\u001b[0m",
            "\u001b[0;31mKeyboardInterrupt\u001b[0m                         Traceback (most recent call last)",
            "\u001b[0;32m<ipython-input-14-5516a4b321bf>\u001b[0m in \u001b[0;36m<module>\u001b[0;34m\u001b[0m\n\u001b[1;32m     12\u001b[0m \u001b[0mnum_epocas\u001b[0m \u001b[0;34m=\u001b[0m \u001b[0;36m20\u001b[0m\u001b[0;34m\u001b[0m\u001b[0;34m\u001b[0m\u001b[0m\n\u001b[1;32m     13\u001b[0m \u001b[0mmodelo\u001b[0m\u001b[0;34m.\u001b[0m\u001b[0mfit\u001b[0m\u001b[0;34m(\u001b[0m\u001b[0msecuencia_train\u001b[0m\u001b[0;34m,\u001b[0m \u001b[0my_train\u001b[0m\u001b[0;34m,\u001b[0m\u001b[0mbatch_size\u001b[0m\u001b[0;34m=\u001b[0m\u001b[0;36m64\u001b[0m\u001b[0;34m,\u001b[0m \u001b[0mepochs\u001b[0m\u001b[0;34m=\u001b[0m\u001b[0mnum_epocas\u001b[0m\u001b[0;34m,\u001b[0m \u001b[0mvalidation_split\u001b[0m\u001b[0;34m=\u001b[0m\u001b[0;36m0.3\u001b[0m\u001b[0;34m,\u001b[0m \u001b[0mcallbacks\u001b[0m\u001b[0;34m=\u001b[0m\u001b[0mcallback\u001b[0m\u001b[0;34m)\u001b[0m\u001b[0;34m\u001b[0m\u001b[0;34m\u001b[0m\u001b[0m\n\u001b[0;32m---> 14\u001b[0;31m \u001b[0mmodelo1\u001b[0m\u001b[0;34m.\u001b[0m\u001b[0mfit\u001b[0m\u001b[0;34m(\u001b[0m\u001b[0msecuencia_train\u001b[0m\u001b[0;34m,\u001b[0m \u001b[0my_train\u001b[0m\u001b[0;34m,\u001b[0m\u001b[0mbatch_size\u001b[0m\u001b[0;34m=\u001b[0m\u001b[0;36m64\u001b[0m\u001b[0;34m,\u001b[0m \u001b[0mepochs\u001b[0m\u001b[0;34m=\u001b[0m\u001b[0mnum_epocas\u001b[0m\u001b[0;34m,\u001b[0m \u001b[0mvalidation_split\u001b[0m\u001b[0;34m=\u001b[0m\u001b[0;36m0.3\u001b[0m\u001b[0;34m,\u001b[0m \u001b[0mcallbacks\u001b[0m\u001b[0;34m=\u001b[0m\u001b[0mcallback\u001b[0m\u001b[0;34m)\u001b[0m\u001b[0;34m\u001b[0m\u001b[0;34m\u001b[0m\u001b[0m\n\u001b[0m\u001b[1;32m     15\u001b[0m \u001b[0mmodelo2\u001b[0m\u001b[0;34m.\u001b[0m\u001b[0mfit\u001b[0m\u001b[0;34m(\u001b[0m\u001b[0msecuencia_train\u001b[0m\u001b[0;34m,\u001b[0m \u001b[0my_train\u001b[0m\u001b[0;34m,\u001b[0m\u001b[0mbatch_size\u001b[0m\u001b[0;34m=\u001b[0m\u001b[0;36m64\u001b[0m\u001b[0;34m,\u001b[0m \u001b[0mepochs\u001b[0m\u001b[0;34m=\u001b[0m\u001b[0mnum_epocas\u001b[0m\u001b[0;34m,\u001b[0m \u001b[0mvalidation_split\u001b[0m\u001b[0;34m=\u001b[0m\u001b[0;36m0.3\u001b[0m\u001b[0;34m,\u001b[0m \u001b[0mcallbacks\u001b[0m\u001b[0;34m=\u001b[0m\u001b[0mcallback\u001b[0m\u001b[0;34m)\u001b[0m\u001b[0;34m\u001b[0m\u001b[0;34m\u001b[0m\u001b[0m\n\u001b[1;32m     16\u001b[0m \u001b[0;34m\u001b[0m\u001b[0m\n",
            "\u001b[0;32m/usr/local/lib/python3.8/dist-packages/keras/utils/traceback_utils.py\u001b[0m in \u001b[0;36merror_handler\u001b[0;34m(*args, **kwargs)\u001b[0m\n\u001b[1;32m     62\u001b[0m     \u001b[0mfiltered_tb\u001b[0m \u001b[0;34m=\u001b[0m \u001b[0;32mNone\u001b[0m\u001b[0;34m\u001b[0m\u001b[0;34m\u001b[0m\u001b[0m\n\u001b[1;32m     63\u001b[0m     \u001b[0;32mtry\u001b[0m\u001b[0;34m:\u001b[0m\u001b[0;34m\u001b[0m\u001b[0;34m\u001b[0m\u001b[0m\n\u001b[0;32m---> 64\u001b[0;31m       \u001b[0;32mreturn\u001b[0m \u001b[0mfn\u001b[0m\u001b[0;34m(\u001b[0m\u001b[0;34m*\u001b[0m\u001b[0margs\u001b[0m\u001b[0;34m,\u001b[0m \u001b[0;34m**\u001b[0m\u001b[0mkwargs\u001b[0m\u001b[0;34m)\u001b[0m\u001b[0;34m\u001b[0m\u001b[0;34m\u001b[0m\u001b[0m\n\u001b[0m\u001b[1;32m     65\u001b[0m     \u001b[0;32mexcept\u001b[0m \u001b[0mException\u001b[0m \u001b[0;32mas\u001b[0m \u001b[0me\u001b[0m\u001b[0;34m:\u001b[0m  \u001b[0;31m# pylint: disable=broad-except\u001b[0m\u001b[0;34m\u001b[0m\u001b[0;34m\u001b[0m\u001b[0m\n\u001b[1;32m     66\u001b[0m       \u001b[0mfiltered_tb\u001b[0m \u001b[0;34m=\u001b[0m \u001b[0m_process_traceback_frames\u001b[0m\u001b[0;34m(\u001b[0m\u001b[0me\u001b[0m\u001b[0;34m.\u001b[0m\u001b[0m__traceback__\u001b[0m\u001b[0;34m)\u001b[0m\u001b[0;34m\u001b[0m\u001b[0;34m\u001b[0m\u001b[0m\n",
            "\u001b[0;32m/usr/local/lib/python3.8/dist-packages/keras/engine/training.py\u001b[0m in \u001b[0;36mfit\u001b[0;34m(self, x, y, batch_size, epochs, verbose, callbacks, validation_split, validation_data, shuffle, class_weight, sample_weight, initial_epoch, steps_per_epoch, validation_steps, validation_batch_size, validation_freq, max_queue_size, workers, use_multiprocessing)\u001b[0m\n\u001b[1;32m   1443\u001b[0m                 \u001b[0mmodel\u001b[0m\u001b[0;34m=\u001b[0m\u001b[0mself\u001b[0m\u001b[0;34m,\u001b[0m\u001b[0;34m\u001b[0m\u001b[0;34m\u001b[0m\u001b[0m\n\u001b[1;32m   1444\u001b[0m                 steps_per_execution=self._steps_per_execution)\n\u001b[0;32m-> 1445\u001b[0;31m           val_logs = self.evaluate(\n\u001b[0m\u001b[1;32m   1446\u001b[0m               \u001b[0mx\u001b[0m\u001b[0;34m=\u001b[0m\u001b[0mval_x\u001b[0m\u001b[0;34m,\u001b[0m\u001b[0;34m\u001b[0m\u001b[0;34m\u001b[0m\u001b[0m\n\u001b[1;32m   1447\u001b[0m               \u001b[0my\u001b[0m\u001b[0;34m=\u001b[0m\u001b[0mval_y\u001b[0m\u001b[0;34m,\u001b[0m\u001b[0;34m\u001b[0m\u001b[0;34m\u001b[0m\u001b[0m\n",
            "\u001b[0;32m/usr/local/lib/python3.8/dist-packages/keras/utils/traceback_utils.py\u001b[0m in \u001b[0;36merror_handler\u001b[0;34m(*args, **kwargs)\u001b[0m\n\u001b[1;32m     62\u001b[0m     \u001b[0mfiltered_tb\u001b[0m \u001b[0;34m=\u001b[0m \u001b[0;32mNone\u001b[0m\u001b[0;34m\u001b[0m\u001b[0;34m\u001b[0m\u001b[0m\n\u001b[1;32m     63\u001b[0m     \u001b[0;32mtry\u001b[0m\u001b[0;34m:\u001b[0m\u001b[0;34m\u001b[0m\u001b[0;34m\u001b[0m\u001b[0m\n\u001b[0;32m---> 64\u001b[0;31m       \u001b[0;32mreturn\u001b[0m \u001b[0mfn\u001b[0m\u001b[0;34m(\u001b[0m\u001b[0;34m*\u001b[0m\u001b[0margs\u001b[0m\u001b[0;34m,\u001b[0m \u001b[0;34m**\u001b[0m\u001b[0mkwargs\u001b[0m\u001b[0;34m)\u001b[0m\u001b[0;34m\u001b[0m\u001b[0;34m\u001b[0m\u001b[0m\n\u001b[0m\u001b[1;32m     65\u001b[0m     \u001b[0;32mexcept\u001b[0m \u001b[0mException\u001b[0m \u001b[0;32mas\u001b[0m \u001b[0me\u001b[0m\u001b[0;34m:\u001b[0m  \u001b[0;31m# pylint: disable=broad-except\u001b[0m\u001b[0;34m\u001b[0m\u001b[0;34m\u001b[0m\u001b[0m\n\u001b[1;32m     66\u001b[0m       \u001b[0mfiltered_tb\u001b[0m \u001b[0;34m=\u001b[0m \u001b[0m_process_traceback_frames\u001b[0m\u001b[0;34m(\u001b[0m\u001b[0me\u001b[0m\u001b[0;34m.\u001b[0m\u001b[0m__traceback__\u001b[0m\u001b[0;34m)\u001b[0m\u001b[0;34m\u001b[0m\u001b[0;34m\u001b[0m\u001b[0m\n",
            "\u001b[0;32m/usr/local/lib/python3.8/dist-packages/keras/engine/training.py\u001b[0m in \u001b[0;36mevaluate\u001b[0;34m(self, x, y, batch_size, verbose, sample_weight, steps, callbacks, max_queue_size, workers, use_multiprocessing, return_dict, **kwargs)\u001b[0m\n\u001b[1;32m   1754\u001b[0m             \u001b[0;32mwith\u001b[0m \u001b[0mtf\u001b[0m\u001b[0;34m.\u001b[0m\u001b[0mprofiler\u001b[0m\u001b[0;34m.\u001b[0m\u001b[0mexperimental\u001b[0m\u001b[0;34m.\u001b[0m\u001b[0mTrace\u001b[0m\u001b[0;34m(\u001b[0m\u001b[0;34m'test'\u001b[0m\u001b[0;34m,\u001b[0m \u001b[0mstep_num\u001b[0m\u001b[0;34m=\u001b[0m\u001b[0mstep\u001b[0m\u001b[0;34m,\u001b[0m \u001b[0m_r\u001b[0m\u001b[0;34m=\u001b[0m\u001b[0;36m1\u001b[0m\u001b[0;34m)\u001b[0m\u001b[0;34m:\u001b[0m\u001b[0;34m\u001b[0m\u001b[0;34m\u001b[0m\u001b[0m\n\u001b[1;32m   1755\u001b[0m               \u001b[0mcallbacks\u001b[0m\u001b[0;34m.\u001b[0m\u001b[0mon_test_batch_begin\u001b[0m\u001b[0;34m(\u001b[0m\u001b[0mstep\u001b[0m\u001b[0;34m)\u001b[0m\u001b[0;34m\u001b[0m\u001b[0;34m\u001b[0m\u001b[0m\n\u001b[0;32m-> 1756\u001b[0;31m               \u001b[0mtmp_logs\u001b[0m \u001b[0;34m=\u001b[0m \u001b[0mself\u001b[0m\u001b[0;34m.\u001b[0m\u001b[0mtest_function\u001b[0m\u001b[0;34m(\u001b[0m\u001b[0miterator\u001b[0m\u001b[0;34m)\u001b[0m\u001b[0;34m\u001b[0m\u001b[0;34m\u001b[0m\u001b[0m\n\u001b[0m\u001b[1;32m   1757\u001b[0m               \u001b[0;32mif\u001b[0m \u001b[0mdata_handler\u001b[0m\u001b[0;34m.\u001b[0m\u001b[0mshould_sync\u001b[0m\u001b[0;34m:\u001b[0m\u001b[0;34m\u001b[0m\u001b[0;34m\u001b[0m\u001b[0m\n\u001b[1;32m   1758\u001b[0m                 \u001b[0mcontext\u001b[0m\u001b[0;34m.\u001b[0m\u001b[0masync_wait\u001b[0m\u001b[0;34m(\u001b[0m\u001b[0;34m)\u001b[0m\u001b[0;34m\u001b[0m\u001b[0;34m\u001b[0m\u001b[0m\n",
            "\u001b[0;32m/usr/local/lib/python3.8/dist-packages/tensorflow/python/util/traceback_utils.py\u001b[0m in \u001b[0;36merror_handler\u001b[0;34m(*args, **kwargs)\u001b[0m\n\u001b[1;32m    148\u001b[0m     \u001b[0mfiltered_tb\u001b[0m \u001b[0;34m=\u001b[0m \u001b[0;32mNone\u001b[0m\u001b[0;34m\u001b[0m\u001b[0;34m\u001b[0m\u001b[0m\n\u001b[1;32m    149\u001b[0m     \u001b[0;32mtry\u001b[0m\u001b[0;34m:\u001b[0m\u001b[0;34m\u001b[0m\u001b[0;34m\u001b[0m\u001b[0m\n\u001b[0;32m--> 150\u001b[0;31m       \u001b[0;32mreturn\u001b[0m \u001b[0mfn\u001b[0m\u001b[0;34m(\u001b[0m\u001b[0;34m*\u001b[0m\u001b[0margs\u001b[0m\u001b[0;34m,\u001b[0m \u001b[0;34m**\u001b[0m\u001b[0mkwargs\u001b[0m\u001b[0;34m)\u001b[0m\u001b[0;34m\u001b[0m\u001b[0;34m\u001b[0m\u001b[0m\n\u001b[0m\u001b[1;32m    151\u001b[0m     \u001b[0;32mexcept\u001b[0m \u001b[0mException\u001b[0m \u001b[0;32mas\u001b[0m \u001b[0me\u001b[0m\u001b[0;34m:\u001b[0m\u001b[0;34m\u001b[0m\u001b[0;34m\u001b[0m\u001b[0m\n\u001b[1;32m    152\u001b[0m       \u001b[0mfiltered_tb\u001b[0m \u001b[0;34m=\u001b[0m \u001b[0m_process_traceback_frames\u001b[0m\u001b[0;34m(\u001b[0m\u001b[0me\u001b[0m\u001b[0;34m.\u001b[0m\u001b[0m__traceback__\u001b[0m\u001b[0;34m)\u001b[0m\u001b[0;34m\u001b[0m\u001b[0;34m\u001b[0m\u001b[0m\n",
            "\u001b[0;32m/usr/local/lib/python3.8/dist-packages/tensorflow/python/eager/def_function.py\u001b[0m in \u001b[0;36m__call__\u001b[0;34m(self, *args, **kwds)\u001b[0m\n\u001b[1;32m    913\u001b[0m \u001b[0;34m\u001b[0m\u001b[0m\n\u001b[1;32m    914\u001b[0m       \u001b[0;32mwith\u001b[0m \u001b[0mOptionalXlaContext\u001b[0m\u001b[0;34m(\u001b[0m\u001b[0mself\u001b[0m\u001b[0;34m.\u001b[0m\u001b[0m_jit_compile\u001b[0m\u001b[0;34m)\u001b[0m\u001b[0;34m:\u001b[0m\u001b[0;34m\u001b[0m\u001b[0;34m\u001b[0m\u001b[0m\n\u001b[0;32m--> 915\u001b[0;31m         \u001b[0mresult\u001b[0m \u001b[0;34m=\u001b[0m \u001b[0mself\u001b[0m\u001b[0;34m.\u001b[0m\u001b[0m_call\u001b[0m\u001b[0;34m(\u001b[0m\u001b[0;34m*\u001b[0m\u001b[0margs\u001b[0m\u001b[0;34m,\u001b[0m \u001b[0;34m**\u001b[0m\u001b[0mkwds\u001b[0m\u001b[0;34m)\u001b[0m\u001b[0;34m\u001b[0m\u001b[0;34m\u001b[0m\u001b[0m\n\u001b[0m\u001b[1;32m    916\u001b[0m \u001b[0;34m\u001b[0m\u001b[0m\n\u001b[1;32m    917\u001b[0m       \u001b[0mnew_tracing_count\u001b[0m \u001b[0;34m=\u001b[0m \u001b[0mself\u001b[0m\u001b[0;34m.\u001b[0m\u001b[0mexperimental_get_tracing_count\u001b[0m\u001b[0;34m(\u001b[0m\u001b[0;34m)\u001b[0m\u001b[0;34m\u001b[0m\u001b[0;34m\u001b[0m\u001b[0m\n",
            "\u001b[0;32m/usr/local/lib/python3.8/dist-packages/tensorflow/python/eager/def_function.py\u001b[0m in \u001b[0;36m_call\u001b[0;34m(self, *args, **kwds)\u001b[0m\n\u001b[1;32m    952\u001b[0m       \u001b[0;31m# In this case we have not created variables on the first call. So we can\u001b[0m\u001b[0;34m\u001b[0m\u001b[0;34m\u001b[0m\u001b[0;34m\u001b[0m\u001b[0m\n\u001b[1;32m    953\u001b[0m       \u001b[0;31m# run the first trace but we should fail if variables are created.\u001b[0m\u001b[0;34m\u001b[0m\u001b[0;34m\u001b[0m\u001b[0;34m\u001b[0m\u001b[0m\n\u001b[0;32m--> 954\u001b[0;31m       \u001b[0mresults\u001b[0m \u001b[0;34m=\u001b[0m \u001b[0mself\u001b[0m\u001b[0;34m.\u001b[0m\u001b[0m_stateful_fn\u001b[0m\u001b[0;34m(\u001b[0m\u001b[0;34m*\u001b[0m\u001b[0margs\u001b[0m\u001b[0;34m,\u001b[0m \u001b[0;34m**\u001b[0m\u001b[0mkwds\u001b[0m\u001b[0;34m)\u001b[0m\u001b[0;34m\u001b[0m\u001b[0;34m\u001b[0m\u001b[0m\n\u001b[0m\u001b[1;32m    955\u001b[0m       \u001b[0;32mif\u001b[0m \u001b[0mself\u001b[0m\u001b[0;34m.\u001b[0m\u001b[0m_created_variables\u001b[0m \u001b[0;32mand\u001b[0m \u001b[0;32mnot\u001b[0m \u001b[0mALLOW_DYNAMIC_VARIABLE_CREATION\u001b[0m\u001b[0;34m:\u001b[0m\u001b[0;34m\u001b[0m\u001b[0;34m\u001b[0m\u001b[0m\n\u001b[1;32m    956\u001b[0m         raise ValueError(\"Creating variables on a non-first call to a function\"\n",
            "\u001b[0;32m/usr/local/lib/python3.8/dist-packages/tensorflow/python/eager/function.py\u001b[0m in \u001b[0;36m__call__\u001b[0;34m(self, *args, **kwargs)\u001b[0m\n\u001b[1;32m   2451\u001b[0m       (graph_function,\n\u001b[1;32m   2452\u001b[0m        filtered_flat_args) = self._maybe_define_function(args, kwargs)\n\u001b[0;32m-> 2453\u001b[0;31m     return graph_function._call_flat(\n\u001b[0m\u001b[1;32m   2454\u001b[0m         filtered_flat_args, captured_inputs=graph_function.captured_inputs)  # pylint: disable=protected-access\n\u001b[1;32m   2455\u001b[0m \u001b[0;34m\u001b[0m\u001b[0m\n",
            "\u001b[0;32m/usr/local/lib/python3.8/dist-packages/tensorflow/python/eager/function.py\u001b[0m in \u001b[0;36m_call_flat\u001b[0;34m(self, args, captured_inputs, cancellation_manager)\u001b[0m\n\u001b[1;32m   1858\u001b[0m         and executing_eagerly):\n\u001b[1;32m   1859\u001b[0m       \u001b[0;31m# No tape is watching; skip to running the function.\u001b[0m\u001b[0;34m\u001b[0m\u001b[0;34m\u001b[0m\u001b[0;34m\u001b[0m\u001b[0m\n\u001b[0;32m-> 1860\u001b[0;31m       return self._build_call_outputs(self._inference_function.call(\n\u001b[0m\u001b[1;32m   1861\u001b[0m           ctx, args, cancellation_manager=cancellation_manager))\n\u001b[1;32m   1862\u001b[0m     forward_backward = self._select_forward_and_backward_functions(\n",
            "\u001b[0;32m/usr/local/lib/python3.8/dist-packages/tensorflow/python/eager/function.py\u001b[0m in \u001b[0;36mcall\u001b[0;34m(self, ctx, args, cancellation_manager)\u001b[0m\n\u001b[1;32m    495\u001b[0m       \u001b[0;32mwith\u001b[0m \u001b[0m_InterpolateFunctionError\u001b[0m\u001b[0;34m(\u001b[0m\u001b[0mself\u001b[0m\u001b[0;34m)\u001b[0m\u001b[0;34m:\u001b[0m\u001b[0;34m\u001b[0m\u001b[0;34m\u001b[0m\u001b[0m\n\u001b[1;32m    496\u001b[0m         \u001b[0;32mif\u001b[0m \u001b[0mcancellation_manager\u001b[0m \u001b[0;32mis\u001b[0m \u001b[0;32mNone\u001b[0m\u001b[0;34m:\u001b[0m\u001b[0;34m\u001b[0m\u001b[0;34m\u001b[0m\u001b[0m\n\u001b[0;32m--> 497\u001b[0;31m           outputs = execute.execute(\n\u001b[0m\u001b[1;32m    498\u001b[0m               \u001b[0mstr\u001b[0m\u001b[0;34m(\u001b[0m\u001b[0mself\u001b[0m\u001b[0;34m.\u001b[0m\u001b[0msignature\u001b[0m\u001b[0;34m.\u001b[0m\u001b[0mname\u001b[0m\u001b[0;34m)\u001b[0m\u001b[0;34m,\u001b[0m\u001b[0;34m\u001b[0m\u001b[0;34m\u001b[0m\u001b[0m\n\u001b[1;32m    499\u001b[0m               \u001b[0mnum_outputs\u001b[0m\u001b[0;34m=\u001b[0m\u001b[0mself\u001b[0m\u001b[0;34m.\u001b[0m\u001b[0m_num_outputs\u001b[0m\u001b[0;34m,\u001b[0m\u001b[0;34m\u001b[0m\u001b[0;34m\u001b[0m\u001b[0m\n",
            "\u001b[0;32m/usr/local/lib/python3.8/dist-packages/tensorflow/python/eager/execute.py\u001b[0m in \u001b[0;36mquick_execute\u001b[0;34m(op_name, num_outputs, inputs, attrs, ctx, name)\u001b[0m\n\u001b[1;32m     52\u001b[0m   \u001b[0;32mtry\u001b[0m\u001b[0;34m:\u001b[0m\u001b[0;34m\u001b[0m\u001b[0;34m\u001b[0m\u001b[0m\n\u001b[1;32m     53\u001b[0m     \u001b[0mctx\u001b[0m\u001b[0;34m.\u001b[0m\u001b[0mensure_initialized\u001b[0m\u001b[0;34m(\u001b[0m\u001b[0;34m)\u001b[0m\u001b[0;34m\u001b[0m\u001b[0;34m\u001b[0m\u001b[0m\n\u001b[0;32m---> 54\u001b[0;31m     tensors = pywrap_tfe.TFE_Py_Execute(ctx._handle, device_name, op_name,\n\u001b[0m\u001b[1;32m     55\u001b[0m                                         inputs, attrs, num_outputs)\n\u001b[1;32m     56\u001b[0m   \u001b[0;32mexcept\u001b[0m \u001b[0mcore\u001b[0m\u001b[0;34m.\u001b[0m\u001b[0m_NotOkStatusException\u001b[0m \u001b[0;32mas\u001b[0m \u001b[0me\u001b[0m\u001b[0;34m:\u001b[0m\u001b[0;34m\u001b[0m\u001b[0;34m\u001b[0m\u001b[0m\n",
            "\u001b[0;31mKeyboardInterrupt\u001b[0m: "
          ]
        }
      ]
    },
    {
      "cell_type": "markdown",
      "source": [
        "Para poder comparar los modelos es necesario relalizar el entrenamiento varias veces y hacer algun ajuste estadístico, en este caso se ha ejecutado cada modelo 10 veces y se ha realizado la media para comparar los resultados obtenidos."
      ],
      "metadata": {
        "id": "4P4XKbmBlEdD"
      }
    },
    {
      "cell_type": "code",
      "source": [
        "comparar=False\n",
        "#comparar=True #descomentar para comparar los modelos\n",
        "\n",
        "if comparar:\n",
        "  num_entre=10\n",
        "  res_test =0\n",
        "  for i in range(0,num_entre):\n",
        "    res_test += entrenar(RNN(long_secuencia, num_palabras, 4))\n",
        "\n",
        "  res_test1 =0\n",
        "  for i in range(0,num_entre):\n",
        "    res_test1 += entrenar(RNN1(long_secuencia, num_palabras, 4))\n",
        "\n",
        "  res_test2 =0\n",
        "  for i in range(0,num_entre):\n",
        "    res_test2 += entrenar(RNN2(long_secuencia, num_palabras, 4))\n",
        "\n",
        "  print('Accuracy: {:.2f}'.format(res_test/num_entre))\n",
        "  print('Accuracy: {:.2f}'.format(res_test1/num_entre))\n",
        "  print('Accuracy: {:.2f}'.format(res_test2/num_entre))"
      ],
      "metadata": {
        "id": "UFNNO0qntTDK"
      },
      "execution_count": null,
      "outputs": []
    },
    {
      "cell_type": "markdown",
      "source": [
        "### Resultados\n"
      ],
      "metadata": {
        "id": "djspptRAl5Ar"
      }
    },
    {
      "cell_type": "markdown",
      "source": [
        "Se puede observar que como se mencionó anteriormente el modelo no es capaz de realizar la clasificación correctamente en la revista 0 (revista 2). Para mejorar estos resultados se podria tratar de balancear los datos o ajustar el modelo de forma que le de mayor importancia a los errores poducidos en esta clasificación. \n",
        "Yo optaria por aumentar la cantidad de artículos ya que se esta trabajando con una cantidad de artículos muy escasa para trabajar con machine learning.\n",
        "\n",
        "Salvo por los errores producidos en la revista etiquetada como 0 los tres modelos funcionan bastante bien, teniendo una presición del 80% aproximadamente.\n",
        "A continuacion se ve una matriz de confusión en la que se ve claramente que el etiquetado de la revista 0 es un problema grave, ya que no es capaz de clasificar ninguno de sus articulos correctamente.\n",
        "\n",
        "![matrizConfusion.png](data:image/png;base64,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)"
      ],
      "metadata": {
        "id": "EaA-iWs4t9l3"
      }
    },
    {
      "cell_type": "code",
      "source": [
        "y_pred = modelo.predict(secuencia_test)\n",
        "y_pred = np.argmax(y_pred, axis=1)\n",
        "\n",
        "y_pred1 = modelo1.predict(secuencia_test)\n",
        "y_pred1 = np.argmax(y_pred1, axis=1)\n",
        "\n",
        "y_pred2 = modelo2.predict(secuencia_test)\n",
        "y_pred2 = np.argmax(y_pred2, axis=1)\n",
        "\n",
        "cm =confusion_matrix(list(np.transpose(encode.inverse_transform(y_test))[0]), list(y_pred))\n",
        "disp = ConfusionMatrixDisplay(confusion_matrix=cm)\n",
        "disp.plot()\n",
        "\n",
        "cm1 =confusion_matrix(list(np.transpose(encode.inverse_transform(y_test))[0]), list(y_pred1))\n",
        "disp1 = ConfusionMatrixDisplay(confusion_matrix=cm1)\n",
        "disp1.plot()\n",
        "\n",
        "cm2 =confusion_matrix(list(np.transpose(encode.inverse_transform(y_test))[0]), list(y_pred2))\n",
        "disp2 = ConfusionMatrixDisplay(confusion_matrix=cm2)\n",
        "disp2.plot()"
      ],
      "metadata": {
        "id": "ltWGxsAMJXau",
        "colab": {
          "base_uri": "https://localhost:8080/",
          "height": 872
        },
        "outputId": "60a1b1fe-1722-4d7d-dfc6-56df8a8852fd"
      },
      "execution_count": null,
      "outputs": [
        {
          "output_type": "stream",
          "name": "stdout",
          "text": [
            "50/50 [==============================] - 2s 23ms/step\n",
            "50/50 [==============================] - 3s 44ms/step\n",
            "50/50 [==============================] - 3s 44ms/step\n"
          ]
        },
        {
          "output_type": "execute_result",
          "data": {
            "text/plain": [
              "<sklearn.metrics._plot.confusion_matrix.ConfusionMatrixDisplay at 0x7f0337244370>"
            ]
          },
          "metadata": {},
          "execution_count": 12
        },
        {
          "output_type": "display_data",
          "data": {
            "text/plain": [
              "<Figure size 432x288 with 2 Axes>"
            ],
            "image/png": "[encoded data removed]"
          },
          "metadata": {
            "needs_background": "light"
          }
        },
        {
          "output_type": "display_data",
          "data": {
            "text/plain": [
              "<Figure size 432x288 with 2 Axes>"
            ],
            "image/png": "[encoded data removed]"
          },
          "metadata": {
            "needs_background": "light"
          }
        },
        {
          "output_type": "display_data",
          "data": {
            "text/plain": [
              "<Figure size 432x288 with 2 Axes>"
            ],
            "image/png": "[encoded data removed]"
          },
          "metadata": {
            "needs_background": "light"
          }
        }
      ]
    },
    {
      "cell_type": "markdown",
      "source": [
        "Adicionalmente se ha desarrollado un clasificador que hace uso de ramdom forest con el que no se han conseguido buenos resultados"
      ],
      "metadata": {
        "id": "0g5Guv8xlvFD"
      }
    },
    {
      "cell_type": "code",
      "source": [
        "from sklearn.ensemble import RandomForestClassifier\n",
        "from sklearn.model_selection import cross_val_score\n",
        "\n",
        "clf = RandomForestClassifier(class_weight ='balanced',n_estimators=5000,n_jobs=-1)\n",
        "clf = clf.fit(secuencia_train, y_train)\n",
        "\n",
        "res_test =clf.score(secuencia_test, y_test)\n",
        "\n",
        "print('Accuracy: {:.2f}'.format(res_test))\n",
        "\n",
        "y_pred = clf.predict(secuencia_test)\n",
        "y_pred = np.argmax(y_pred, axis=1)\n",
        "\n",
        "cm = confusion_matrix(list(np.transpose(encode.inverse_transform(y_test))[0]), list(y_pred))\n",
        "\n",
        "disp = ConfusionMatrixDisplay(confusion_matrix=cm)\n",
        "disp.plot()"
      ],
      "metadata": {
        "id": "YjWfxsHYAGcV",
        "colab": {
          "base_uri": "https://localhost:8080/",
          "height": 315
        },
        "outputId": "de40e511-e344-4bdd-861c-10511c69845d"
      },
      "execution_count": null,
      "outputs": [
        {
          "output_type": "stream",
          "name": "stdout",
          "text": [
            "Accuracy: 0.64\n"
          ]
        },
        {
          "output_type": "execute_result",
          "data": {
            "text/plain": [
              "<sklearn.metrics._plot.confusion_matrix.ConfusionMatrixDisplay at 0x7f040b80b8e0>"
            ]
          },
          "metadata": {},
          "execution_count": 19
        },
        {
          "output_type": "display_data",
          "data": {
            "text/plain": [
              "<Figure size 432x288 with 2 Axes>"
            ],
            "image/png": "[encoded data removed]"
          },
          "metadata": {
            "needs_background": "light"
          }
        }
      ]
    }
  ]
}